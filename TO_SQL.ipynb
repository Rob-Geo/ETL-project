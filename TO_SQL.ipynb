{
 "cells": [
  {
   "cell_type": "code",
   "execution_count": null,
   "metadata": {},
   "outputs": [],
   "source": [
    "import json\n",
    "import os\n",
    "import numpy as np\n",
    "import pandas as pd\n",
    "import matplotlib.pyplot as plt\n",
    "import requests\n",
    "from bs4 import BeautifulSoup\n",
    "from sqlalchemy import create_engine"
   ]
  },
  {
   "cell_type": "code",
   "execution_count": null,
   "metadata": {},
   "outputs": [],
   "source": [
    "#Publishing company data readcsv\n",
    "publisher_data = (\"publisher_data.csv\")\n",
    "sales_data = (\"game_sales.csv\")"
   ]
  },
  {
   "cell_type": "code",
   "execution_count": null,
   "metadata": {},
   "outputs": [],
   "source": [
    "pb_df = pd.read_csv(publisher_data)\n",
    "pb_df.head()\n",
    "\n",
    "to_drop = ['ESRB_Rating', 'PAL_Sales', 'JP_Sales', 'Genre', 'Other_Sales', 'Total_Shipped', 'Global_Sales', 'NA_Sales', 'Rank']\n",
    "\n",
    "pb_df.drop(to_drop, inplace=True, axis=1)\n",
    "\n",
    "Whole_data = pd.DataFrame(pb_df)\n",
    "Whole_data.head()\n",
    "\n",
    "#cleaning data\n",
    "\n",
    "pb_df = pb_df.drop(pb_df[(pb_df.Year < 2010) | (pb_df.Year > 2019)].index)\n",
    "pb_df.dropna()\n",
    "\n",
    "#ssorting\n",
    "\n",
    "pb_df.sort_values(('Name'))\n",
    "\n",
    "pb_df.rename(columns={\"Name\": 'Game'\n",
    "                     ,\"Year\": \"Yr\"})"
   ]
  },
  {
   "cell_type": "code",
   "execution_count": null,
   "metadata": {},
   "outputs": [],
   "source": [
    "database_path = \"Videogames\"\n",
    "connectdealy = 'postgres:RObram1989!!@localhost:5432/Videogames'\n",
    "engine = create_engine(f\"postgresql://{connectdealy}\")\n",
    "con = engine.connect()"
   ]
  },
  {
   "cell_type": "code",
   "execution_count": null,
   "metadata": {},
   "outputs": [],
   "source": [
    "pb_df.to_sql(name='comeon_data', con=engine, if_exists = 'append')"
   ]
  }
 ],
 "metadata": {
  "kernelspec": {
   "display_name": "Python 3",
   "language": "python",
   "name": "python3"
  },
  "language_info": {
   "codemirror_mode": {
    "name": "ipython",
    "version": 3
   },
   "file_extension": ".py",
   "mimetype": "text/x-python",
   "name": "python",
   "nbconvert_exporter": "python",
   "pygments_lexer": "ipython3",
   "version": "3.6.4"
  }
 },
 "nbformat": 4,
 "nbformat_minor": 2
}
